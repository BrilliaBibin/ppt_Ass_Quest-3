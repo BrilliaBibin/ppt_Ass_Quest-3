{
 "cells": [
  {
   "cell_type": "markdown",
   "id": "5dc58146",
   "metadata": {},
   "source": [
    "Question 1\n",
    "Given an integer array nums of length n and an integer target, find three integers\n",
    "in nums such that the sum is closest to the target.\n",
    "Return the sum of the three integers.\n",
    "\n",
    "You may assume that each input would have exactly one solution.\n",
    "\n",
    "Example 1:\n",
    "Input: nums = [-1,2,1,-4], target = 1\n",
    "Output: 2\n",
    "\n",
    "Explanation: The sum that is closest to the target is 2. (-1 + 2 + 1 = 2)."
   ]
  },
  {
   "cell_type": "code",
   "execution_count": 2,
   "id": "0f866c8a",
   "metadata": {},
   "outputs": [],
   "source": [
    "class Solution:\n",
    "    def threeSumClosest(self, nums:[int], target: int) -> int:\n",
    "\n",
    "        n=len(nums)\n",
    "        nums.sort()\n",
    "        diff=20001\n",
    "        val=0\n",
    "        for i in range(n):\n",
    "            a=i+1\n",
    "            b=n-1\n",
    "            while(a<b):\n",
    "                cc=nums[i]+nums[a]+nums[b]\n",
    "                kk=abs(cc-target)\n",
    "                if(kk<diff):\n",
    "                    diff=kk\n",
    "                    val=cc\n",
    "                if(cc==target):\n",
    "                    return target\n",
    "                elif(cc<target):\n",
    "                    a+=1\n",
    "                else:\n",
    "                    b-=1\n",
    "            \n",
    "        return val"
   ]
  },
  {
   "cell_type": "code",
   "execution_count": 3,
   "id": "17b562e0",
   "metadata": {},
   "outputs": [
    {
     "data": {
      "text/plain": [
       "2"
      ]
     },
     "execution_count": 3,
     "metadata": {},
     "output_type": "execute_result"
    }
   ],
   "source": [
    "nums = [-1,2,1,-4]\n",
    "target = 1\n",
    "Solution().threeSumClosest(nums,target)"
   ]
  },
  {
   "cell_type": "code",
   "execution_count": null,
   "id": "2a8cd0c3",
   "metadata": {},
   "outputs": [],
   "source": [
    "Question 2\n",
    "Given an array nums of n integers, return an array of all the unique quadruplets\n",
    "[nums[a], nums[b], nums[c], nums[d]] such that:\n",
    "           ● 0 <= a, b, c, d < n\n",
    "           ● a, b, c, and d are distinct.\n",
    "           ● nums[a] + nums[b] + nums[c] + nums[d] == target\n",
    "\n",
    "You may return the answer in any order.\n",
    "\n",
    "Example 1:\n",
    "Input: nums = [1,0,-1,0,-2,2], target = 0\n",
    "Output: [[-2,-1,1,2],[-2,0,0,2],[-1,0,0,1]]"
   ]
  },
  {
   "cell_type": "code",
   "execution_count": 10,
   "id": "15595094",
   "metadata": {},
   "outputs": [],
   "source": [
    "class Solution:\n",
    "    def fourSum(self, nums:[int], target: int) ->[[int]]:\n",
    "        res,quad=[],[]\n",
    "        nums.sort()\n",
    "        def ksum(k,start,target):\n",
    "            if k!=2:\n",
    "                for i in range(start,len(nums)-k+1):\n",
    "                    if i>start and nums[i]==nums[i-1]:\n",
    "                        continue\n",
    "                    quad.append(nums[i])\n",
    "                    ksum(k-1,i+1,target-nums[i])\n",
    "                    quad.pop()\n",
    "                return\n",
    "\n",
    "\n",
    "            l,r=start,len(nums)-1\n",
    "            while l<r:\n",
    "                if nums[l]+nums[r]<target:\n",
    "                    l+=1\n",
    "                elif nums[l]+nums[r]>target:\n",
    "                    r-=1\n",
    "                else:\n",
    "                    res.append(quad+[nums[l],nums[r]])\n",
    "                    l+=1\n",
    "                    while l<r and nums[l]==nums[l-1]:\n",
    "                        l+=1\n",
    "        ksum(4,0,target)\n",
    "        return res"
   ]
  },
  {
   "cell_type": "code",
   "execution_count": 11,
   "id": "a9596007",
   "metadata": {},
   "outputs": [
    {
     "data": {
      "text/plain": [
       "[[-2, -1, 1, 2], [-2, 0, 0, 2], [-1, 0, 0, 1]]"
      ]
     },
     "execution_count": 11,
     "metadata": {},
     "output_type": "execute_result"
    }
   ],
   "source": [
    "nums = [1,0,-1,0,-2,2]\n",
    "target = 0\n",
    "Solution().fourSum(nums,target)"
   ]
  },
  {
   "cell_type": "markdown",
   "id": "71c6f341",
   "metadata": {},
   "source": [
    "Question 3\n",
    "A permutation of an array of integers is an arrangement of its members into a\n",
    "sequence or linear order.\n",
    "\n",
    "For example, for arr = [1,2,3], the following are all the permutations of arr:\n",
    "[1,2,3], [1,3,2], [2, 1, 3], [2, 3, 1], [3,1,2], [3,2,1].\n",
    "\n",
    "The next permutation of an array of integers is the next lexicographically greater\n",
    "permutation of its integer. More formally, if all the permutations of the array are\n",
    "sorted in one container according to their lexicographical order, then the next\n",
    "permutation of that array is the permutation that follows it in the sorted container.\n",
    "\n",
    "If such an arrangement is not possible, the array must be rearranged as the\n",
    "lowest possible order (i.e., sorted in ascending order).\n",
    "\n",
    "● For example, the next permutation of arr = [1,2,3] is [1,3,2].\n",
    "● Similarly, the next permutation of arr = [2,3,1] is [3,1,2].\n",
    "● While the next permutation of arr = [3,2,1] is [1,2,3] because [3,2,1] does not\n",
    "have a lexicographical larger rearrangement.\n",
    "\n",
    "Given an array of integers nums, find the next permutation of nums.\n",
    "The replacement must be in place and use only constant extra memory.\n",
    "\n",
    "**Example 1:**\n",
    "Input: nums = [1,2,3]\n",
    "Output: [1,3,2]"
   ]
  },
  {
   "cell_type": "code",
   "execution_count": 25,
   "id": "766e7890",
   "metadata": {},
   "outputs": [],
   "source": [
    "class Solution:\n",
    "    def nextPermutation(self, nums:[int]) -> None:\n",
    "        l=len(nums)-2\n",
    "        while l>=0:\n",
    "            if nums[l]<nums[l+1]:\n",
    "                s=len(nums)-1\n",
    "                while s>l:\n",
    "                    if nums[s]>nums[l]:\n",
    "                        nums[l],nums[s]=nums[s],nums[l] \n",
    "                        arr=(nums[:l+1]+sorted(nums[l+1:]))\n",
    "                        nums[:]=arr[:]\n",
    "                        return nums\n",
    "                    s-=1\n",
    "            l-=1\n",
    "        else:\n",
    "            nums.reverse()\n",
    "            return nums"
   ]
  },
  {
   "cell_type": "code",
   "execution_count": 26,
   "id": "762cb27b",
   "metadata": {},
   "outputs": [
    {
     "data": {
      "text/plain": [
       "[1, 3, 2]"
      ]
     },
     "execution_count": 26,
     "metadata": {},
     "output_type": "execute_result"
    }
   ],
   "source": [
    "nums = [1,2,3]\n",
    "Solution().nextPermutation(nums)"
   ]
  },
  {
   "cell_type": "markdown",
   "id": "5fca72ef",
   "metadata": {},
   "source": [
    "Question 4\n",
    "Given a sorted array of distinct integers and a target value, return the index if the\n",
    "target is found. If not, return the index where it would be if it were inserted in\n",
    "order.\n",
    "\n",
    "You must write an algorithm with O(log n) runtime complexity.\n",
    "\n",
    "Example 1:\n",
    "Input: nums = [1,3,5,6], target = 5\n",
    "Output: 2"
   ]
  },
  {
   "cell_type": "code",
   "execution_count": 27,
   "id": "84911f81",
   "metadata": {},
   "outputs": [],
   "source": [
    "class Solution(object):\n",
    "    def searchInsert(self, nums, target):\n",
    "        l = 0\n",
    "        r = len(nums) - 1\n",
    "        while l <= r:\n",
    "            mid = (l + r) // 2\n",
    "            if nums[mid] < target:\n",
    "                l = mid + 1\n",
    "            elif nums[mid] > target:\n",
    "                r = mid - 1\n",
    "            else:\n",
    "                return mid\n",
    "        return l\n",
    "        "
   ]
  },
  {
   "cell_type": "code",
   "execution_count": 28,
   "id": "35e42600",
   "metadata": {},
   "outputs": [
    {
     "data": {
      "text/plain": [
       "2"
      ]
     },
     "execution_count": 28,
     "metadata": {},
     "output_type": "execute_result"
    }
   ],
   "source": [
    "nums = [1,3,5,6]\n",
    "target = 5\n",
    "Solution().searchInsert(nums,target)"
   ]
  },
  {
   "cell_type": "markdown",
   "id": "974d9023",
   "metadata": {},
   "source": [
    "Question 5\n",
    "You are given a large integer represented as an integer array digits, where each\n",
    "digits[i] is the ith digit of the integer. The digits are ordered from most significant\n",
    "to least significant in left-to-right order. The large integer does not contain any\n",
    "leading 0's.\n",
    "\n",
    "Increment the large integer by one and return the resulting array of digits.\n",
    "\n",
    "**Example 1:**\n",
    "Input: digits = [1,2,3]\n",
    "Output: [1,2,4]\n",
    "\n",
    "**Explanation:** The array represents the integer 123.\n",
    "Incrementing by one gives 123 + 1 = 124.\n",
    "Thus, the result should be [1,2,4].\n"
   ]
  },
  {
   "cell_type": "code",
   "execution_count": 29,
   "id": "66069740",
   "metadata": {},
   "outputs": [],
   "source": [
    "class Solution:\n",
    "    def plusOne(self, digits:[int]) ->[int]:\n",
    "        carry = 0\n",
    "        n = len(digits)\n",
    "        for i in reversed(range(n)):\n",
    "            val = digits[i] + carry + 1 if i == n-1 else digits[i] + carry\n",
    "            if val <= 9:\n",
    "                digits[i] = val\n",
    "                carry = 0\n",
    "            else:\n",
    "                carry = val // 10\n",
    "                val -= 10\n",
    "                digits[i] = val\n",
    "        if carry:\n",
    "            digits.insert(0, carry)\n",
    "        return digits"
   ]
  },
  {
   "cell_type": "code",
   "execution_count": 30,
   "id": "2d5de351",
   "metadata": {},
   "outputs": [
    {
     "data": {
      "text/plain": [
       "[1, 2, 4]"
      ]
     },
     "execution_count": 30,
     "metadata": {},
     "output_type": "execute_result"
    }
   ],
   "source": [
    "digits = [1,2,3]\n",
    "Solution().plusOne(digits)"
   ]
  },
  {
   "cell_type": "markdown",
   "id": "00558b37",
   "metadata": {},
   "source": [
    "Question 6\n",
    "Given a non-empty array of integers nums, every element appears twice except\n",
    "for one. Find that single one.\n",
    "\n",
    "You must implement a solution with a linear runtime complexity and use only\n",
    "constant extra space.\n",
    "\n",
    "Example 1:\n",
    "Input: nums = [2,2,1]\n",
    "Output: 1"
   ]
  },
  {
   "cell_type": "code",
   "execution_count": 32,
   "id": "e43683db",
   "metadata": {},
   "outputs": [],
   "source": [
    "class Solution:\n",
    "    def singleNumber(self, nums:[int]) -> int:\n",
    "        dict = {}  # Create an empty dictionary \n",
    "\n",
    "        # Iterate through each element in nums\n",
    "        for i in nums:\n",
    "            if i not in dict:  # If the element is not in the dictionary\n",
    "                dict[i] = True  # Add it to the dictionary with a value of True\n",
    "            else:\n",
    "                dict[i] = False  # If the element already exists in the dictionary, set its value to False\n",
    "\n",
    "        # Iterate through the key-value pairs in the dictionary\n",
    "        for key, val in dict.items():\n",
    "            if val == True:  # If the value is True (indicating a single occurrence)\n",
    "                return key  # Return the corresponding key as the single number\n",
    "\n"
   ]
  },
  {
   "cell_type": "code",
   "execution_count": 33,
   "id": "60790ec9",
   "metadata": {},
   "outputs": [
    {
     "data": {
      "text/plain": [
       "1"
      ]
     },
     "execution_count": 33,
     "metadata": {},
     "output_type": "execute_result"
    }
   ],
   "source": [
    "nums = [2,2,1]\n",
    "Solution().singleNumber(nums)"
   ]
  },
  {
   "cell_type": "markdown",
   "id": "86557707",
   "metadata": {},
   "source": [
    "Question 7\n",
    "You are given an inclusive range [lower, upper] and a sorted unique integer array\n",
    "nums, where all elements are within the inclusive range.\n",
    "\n",
    "A number x is considered missing if x is in the range [lower, upper] and x is not in\n",
    "nums.\n",
    "\n",
    "Return the shortest sorted list of ranges that exactly covers all the missing\n",
    "numbers. That is, no element of nums is included in any of the ranges, and each\n",
    "missing number is covered by one of the ranges.\n",
    "\n",
    "Example 1:\n",
    "Input: nums = [0,1,3,50,75], lower = 0, upper = 99\n",
    "Output: [[2,2],[4,49],[51,74],[76,99]]\n",
    "\n",
    "Explanation: The ranges are:\n",
    "[2,2]\n",
    "[4,49]\n",
    "[51,74]\n",
    "[76,99]"
   ]
  },
  {
   "cell_type": "code",
   "execution_count": 49,
   "id": "5e523bfa",
   "metadata": {},
   "outputs": [],
   "source": [
    "class Solution:\n",
    "    def findMissingRanges(self, nums:[int], lower: int, upper: int) ->[str]:\n",
    "        results = []\n",
    "        \n",
    "        if not nums:\n",
    "            gap = self.helper(lower, upper)\n",
    "            results.append(gap)\n",
    "            \n",
    "            return results\n",
    "        \n",
    "        prev = lower - 1\n",
    "        \n",
    "        for num in nums:\n",
    "            if prev + 1 != num:                \n",
    "                gap = self.helper(prev + 1, num - 1)\n",
    "                results.append(gap)\n",
    "            prev = num    \n",
    "        \n",
    "        if nums[-1] < upper:\n",
    "            gap = self.helper(nums[-1] + 1, upper)\n",
    "            results.append(gap)\n",
    "                    \n",
    "        return results\n",
    "    \n",
    "    def helper(self, left, right):\n",
    "        if left == right:\n",
    "            return str(left)\n",
    "        \n",
    "        return str(left) + \",\" + str(right)\n",
    "        "
   ]
  },
  {
   "cell_type": "code",
   "execution_count": 50,
   "id": "20491b39",
   "metadata": {},
   "outputs": [
    {
     "data": {
      "text/plain": [
       "['2', '4,49', '51,74', '76,99']"
      ]
     },
     "execution_count": 50,
     "metadata": {},
     "output_type": "execute_result"
    }
   ],
   "source": [
    "nums = [0,1,3,50,75]\n",
    "lower = 0\n",
    "upper = 99\n",
    "Solution().findMissingRanges(nums,lower,upper)"
   ]
  },
  {
   "cell_type": "markdown",
   "id": "0f5c4187",
   "metadata": {},
   "source": [
    "Question 8\n",
    "Given an array of meeting time intervals where intervals[i] = [starti, endi],\n",
    "determine if a person could attend all meetings.\n",
    "\n",
    "Example 1:\n",
    "Input: intervals = [[0,30],[5,10],[15,20]]\n",
    "Output: false"
   ]
  },
  {
   "cell_type": "code",
   "execution_count": 57,
   "id": "6785f228",
   "metadata": {},
   "outputs": [],
   "source": [
    "class Solution:\n",
    "    def merge(self, intervals:[[int]]) ->[[int]]:\n",
    "        intervals = sorted(intervals, key=lambda x: x [0])\n",
    "\n",
    "        ans = []\n",
    "\n",
    "        for interval in intervals:\n",
    "            if not ans or ans[-1][1] < interval[0]:\n",
    "                ans.append(interval)\n",
    "            else:\n",
    "                ans[-1][1] = max(ans[-1][1], interval[1])\n",
    "        \n",
    "        return False"
   ]
  },
  {
   "cell_type": "code",
   "execution_count": 58,
   "id": "db4ca45a",
   "metadata": {},
   "outputs": [
    {
     "data": {
      "text/plain": [
       "False"
      ]
     },
     "execution_count": 58,
     "metadata": {},
     "output_type": "execute_result"
    }
   ],
   "source": [
    "intervals = [[0,30],[5,10],[15,20]]\n",
    "Solution().merge(intervals)"
   ]
  }
 ],
 "metadata": {
  "kernelspec": {
   "display_name": "Python 3 (ipykernel)",
   "language": "python",
   "name": "python3"
  },
  "language_info": {
   "codemirror_mode": {
    "name": "ipython",
    "version": 3
   },
   "file_extension": ".py",
   "mimetype": "text/x-python",
   "name": "python",
   "nbconvert_exporter": "python",
   "pygments_lexer": "ipython3",
   "version": "3.9.12"
  }
 },
 "nbformat": 4,
 "nbformat_minor": 5
}
